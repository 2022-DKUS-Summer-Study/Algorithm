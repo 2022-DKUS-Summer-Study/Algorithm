{
 "cells": [
  {
   "cell_type": "code",
   "execution_count": 3,
   "id": "77800a23",
   "metadata": {},
   "outputs": [
    {
     "name": "stdout",
     "output_type": "stream",
     "text": [
      "10\n",
      "6 3 2 10 10 10 -10 -10 7 3\n",
      "8\n",
      "10 9 -5 2 3 4 5 -10\n",
      "3 0 0 1 2 0 0 2 "
     ]
    }
   ],
   "source": [
    "#파이썬 이진탐색 라이브러리 bisect 사용을 위한 import\n",
    "from bisect import bisect_left\n",
    "\n",
    "#입력\n",
    "n = int(input())\n",
    "card_num = list(map(int, input().split()))\n",
    "m = int(input())\n",
    "tar_num = list(map(int, input().split()))\n",
    "\n",
    "#숫자카드에 적혀있는 정수 중복제거\n",
    "set_card_num = set(card_num)\n",
    "\n",
    "#딕셔너리 생성 - key : 숫자카드에 적혀있는 숫자, value : 해당 숫자의 카드 소유 개수\n",
    "tmp = {}\n",
    "for i in set_card_num:\n",
    "    tmp[i]=0\n",
    "for i in card_num:\n",
    "    tmp[i]+=1\n",
    "\n",
    "#딕셔너리 키 기준 오름차순 정렬\n",
    "s_tmp = sorted(tmp.items())\n",
    "key_tmp = list(i[0] for i in s_tmp)\n",
    "value_tmp = list(i[1] for i in s_tmp)\n",
    "\n",
    "#이진탐색으로 tar_num의 개수 찾기\n",
    "for i in tar_num:\n",
    "    #가지고 있는 숫자카드 정수이면=집합에 해당 값이 있다면\n",
    "    if i in set_card_num:\n",
    "        #bisect_left로 key_tmp에서 i의 인덱스를 찾고, 같은 인덱스를 가지는 value_tmp의 값을 출력\n",
    "        print(value_tmp[bisect_left(key_tmp, i)], end=' ')\n",
    "    #가지고 있는 숫자카드 정수가 아니면\n",
    "    else:\n",
    "        # 0을 출력\n",
    "        print(0, end=' ')"
   ]
  },
  {
   "cell_type": "code",
   "execution_count": null,
   "id": "c57fc11b",
   "metadata": {},
   "outputs": [],
   "source": []
  },
  {
   "cell_type": "code",
   "execution_count": null,
   "id": "8378b93a",
   "metadata": {},
   "outputs": [],
   "source": []
  },
  {
   "cell_type": "code",
   "execution_count": null,
   "id": "83745dcb",
   "metadata": {},
   "outputs": [],
   "source": []
  },
  {
   "cell_type": "code",
   "execution_count": null,
   "id": "a5250868",
   "metadata": {},
   "outputs": [],
   "source": []
  },
  {
   "cell_type": "code",
   "execution_count": null,
   "id": "8c470266",
   "metadata": {},
   "outputs": [],
   "source": []
  }
 ],
 "metadata": {
  "kernelspec": {
   "display_name": "Python 3",
   "language": "python",
   "name": "python3"
  },
  "language_info": {
   "codemirror_mode": {
    "name": "ipython",
    "version": 3
   },
   "file_extension": ".py",
   "mimetype": "text/x-python",
   "name": "python",
   "nbconvert_exporter": "python",
   "pygments_lexer": "ipython3",
   "version": "3.9.13"
  }
 },
 "nbformat": 4,
 "nbformat_minor": 5
}
